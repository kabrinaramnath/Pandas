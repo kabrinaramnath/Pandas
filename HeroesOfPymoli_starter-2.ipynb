{
 "cells": [
  {
   "cell_type": "markdown",
   "metadata": {},
   "source": [
    "### Heroes Of Pymoli Data Analysis\n",
    "* There are a total of 576 players; men are in the majority accounting for 84% of total purchases. \n",
    "* Seeing that the purchase amount is greater than total players, it is implied that the same individual purchased more than one game.\n",
    "* The 15-24 year age range accounts for 63.37% of all purchases. Ages 10 and below and 40 and above account for the lowest range of all purchases. \n",
    "\n"
   ]
  },
  {
   "cell_type": "markdown",
   "metadata": {},
   "source": [
    "### Note\n",
    "* Instructions have been included for each segment. You do not have to follow them exactly, but they are included to help you think through the steps."
   ]
  },
  {
   "cell_type": "markdown",
   "metadata": {},
   "source": [
    "## Player Count"
   ]
  },
  {
   "cell_type": "markdown",
   "metadata": {},
   "source": [
    "* Display the total number of players\n"
   ]
  },
  {
   "cell_type": "code",
   "execution_count": 103,
   "metadata": {},
   "outputs": [
    {
     "data": {
      "text/html": [
       "<div>\n",
       "<style scoped>\n",
       "    .dataframe tbody tr th:only-of-type {\n",
       "        vertical-align: middle;\n",
       "    }\n",
       "\n",
       "    .dataframe tbody tr th {\n",
       "        vertical-align: top;\n",
       "    }\n",
       "\n",
       "    .dataframe thead th {\n",
       "        text-align: right;\n",
       "    }\n",
       "</style>\n",
       "<table border=\"1\" class=\"dataframe\">\n",
       "  <thead>\n",
       "    <tr style=\"text-align: right;\">\n",
       "      <th></th>\n",
       "      <th>Total Players</th>\n",
       "    </tr>\n",
       "  </thead>\n",
       "  <tbody>\n",
       "    <tr>\n",
       "      <th>0</th>\n",
       "      <td>576</td>\n",
       "    </tr>\n",
       "  </tbody>\n",
       "</table>\n",
       "</div>"
      ],
      "text/plain": [
       "   Total Players\n",
       "0            576"
      ]
     },
     "execution_count": 103,
     "metadata": {},
     "output_type": "execute_result"
    }
   ],
   "source": [
    "import pandas as pd\n",
    "import numpy as np\n",
    "\n",
    "\n",
    "input = \"purchase_data.csv\"\n",
    "\n",
    "\n",
    "purchase_data_df = pd.read_csv(input)\n",
    "\n",
    "total_players = len(purchase_data_df[\"SN\"].value_counts())\n",
    "player_count = pd.DataFrame({\"Total Players\":[total_players]})\n",
    "player_count\n"
   ]
  },
  {
   "cell_type": "markdown",
   "metadata": {},
   "source": [
    "## Purchasing Analysis (Total)"
   ]
  },
  {
   "cell_type": "markdown",
   "metadata": {},
   "source": [
    "* Run basic calculations to obtain number of unique items, average price, etc.\n",
    "\n",
    "\n",
    "* Create a summary data frame to hold the results\n",
    "\n",
    "\n",
    "* Optional: give the displayed data cleaner formatting\n",
    "\n",
    "\n",
    "* Display the summary data frame\n"
   ]
  },
  {
   "cell_type": "code",
   "execution_count": 92,
   "metadata": {
    "scrolled": true
   },
   "outputs": [
    {
     "data": {
      "text/html": [
       "<style  type=\"text/css\" >\n",
       "</style>  \n",
       "<table id=\"T_34718612_0031_11e9_9130_f45c89a06919\" > \n",
       "<thead>    <tr> \n",
       "        <th class=\"blank level0\" ></th> \n",
       "        <th class=\"col_heading level0 col0\" >No. of Unique Items</th> \n",
       "        <th class=\"col_heading level0 col1\" >Avg Price</th> \n",
       "        <th class=\"col_heading level0 col2\" >No. of Purchases</th> \n",
       "        <th class=\"col_heading level0 col3\" >Total Revenue</th> \n",
       "    </tr></thead> \n",
       "<tbody>    <tr> \n",
       "        <th id=\"T_34718612_0031_11e9_9130_f45c89a06919level0_row0\" class=\"row_heading level0 row0\" >0</th> \n",
       "        <td id=\"T_34718612_0031_11e9_9130_f45c89a06919row0_col0\" class=\"data row0 col0\" >183</td> \n",
       "        <td id=\"T_34718612_0031_11e9_9130_f45c89a06919row0_col1\" class=\"data row0 col1\" >$3.05</td> \n",
       "        <td id=\"T_34718612_0031_11e9_9130_f45c89a06919row0_col2\" class=\"data row0 col2\" >780</td> \n",
       "        <td id=\"T_34718612_0031_11e9_9130_f45c89a06919row0_col3\" class=\"data row0 col3\" >$2,379.77</td> \n",
       "    </tr></tbody> \n",
       "</table> "
      ],
      "text/plain": [
       "<pandas.io.formats.style.Styler at 0x11b95f860>"
      ]
     },
     "execution_count": 92,
     "metadata": {},
     "output_type": "execute_result"
    }
   ],
   "source": [
    "\n",
    "unique_items = len((purchase_data_df[\"Item ID\"]).unique())\n",
    "number_of_purchases = (purchase_data_df[\"Purchase ID\"]).count()\n",
    "avg_price = (purchase_data_df[\"Price\"]).mean()\n",
    "total_revenue = (purchase_data_df[\"Price\"]).sum()\n",
    "\n",
    "\n",
    "summary_df = pd.DataFrame({\"No. of Unique Items\":[unique_items],\n",
    "                           \"Avg Price\":[avg_price], \n",
    "                           \"No. of Purchases\": [number_of_purchases], \n",
    "                           \"Total Revenue\": [total_revenue]})\n",
    "\n",
    "\n",
    "summary_df.style.format({'Avg Price':\"${:,.2f}\",\n",
    "                         'Total Revenue': '${:,.2f}'})"
   ]
  },
  {
   "cell_type": "markdown",
   "metadata": {},
   "source": [
    "## Gender Demographics"
   ]
  },
  {
   "cell_type": "markdown",
   "metadata": {},
   "source": [
    "* Percentage and Count of Male Players\n",
    "\n",
    "\n",
    "* Percentage and Count of Female Players\n",
    "\n",
    "\n",
    "* Percentage and Count of Other / Non-Disclosed\n",
    "\n",
    "\n"
   ]
  },
  {
   "cell_type": "code",
   "execution_count": 93,
   "metadata": {},
   "outputs": [
    {
     "data": {
      "text/html": [
       "<style  type=\"text/css\" >\n",
       "</style>  \n",
       "<table id=\"T_35add8e6_0031_11e9_9130_f45c89a06919\" > \n",
       "<thead>    <tr> \n",
       "        <th class=\"blank level0\" ></th> \n",
       "        <th class=\"col_heading level0 col0\" >Percentage of Players</th> \n",
       "        <th class=\"col_heading level0 col1\" >Total Count</th> \n",
       "    </tr>    <tr> \n",
       "        <th class=\"index_name level0\" >Gender</th> \n",
       "        <th class=\"blank\" ></th> \n",
       "        <th class=\"blank\" ></th> \n",
       "    </tr></thead> \n",
       "<tbody>    <tr> \n",
       "        <th id=\"T_35add8e6_0031_11e9_9130_f45c89a06919level0_row0\" class=\"row_heading level0 row0\" >Male</th> \n",
       "        <td id=\"T_35add8e6_0031_11e9_9130_f45c89a06919row0_col0\" class=\"data row0 col0\" >84.03%</td> \n",
       "        <td id=\"T_35add8e6_0031_11e9_9130_f45c89a06919row0_col1\" class=\"data row0 col1\" >484</td> \n",
       "    </tr>    <tr> \n",
       "        <th id=\"T_35add8e6_0031_11e9_9130_f45c89a06919level0_row1\" class=\"row_heading level0 row1\" >Female</th> \n",
       "        <td id=\"T_35add8e6_0031_11e9_9130_f45c89a06919row1_col0\" class=\"data row1 col0\" >14.06%</td> \n",
       "        <td id=\"T_35add8e6_0031_11e9_9130_f45c89a06919row1_col1\" class=\"data row1 col1\" >81</td> \n",
       "    </tr>    <tr> \n",
       "        <th id=\"T_35add8e6_0031_11e9_9130_f45c89a06919level0_row2\" class=\"row_heading level0 row2\" >Other / Non-Disclosed</th> \n",
       "        <td id=\"T_35add8e6_0031_11e9_9130_f45c89a06919row2_col0\" class=\"data row2 col0\" >1.91%</td> \n",
       "        <td id=\"T_35add8e6_0031_11e9_9130_f45c89a06919row2_col1\" class=\"data row2 col1\" >11</td> \n",
       "    </tr></tbody> \n",
       "</table> "
      ],
      "text/plain": [
       "<pandas.io.formats.style.Styler at 0x11b9a4e10>"
      ]
     },
     "execution_count": 93,
     "metadata": {},
     "output_type": "execute_result"
    }
   ],
   "source": [
    "gender_info = purchase_data_df.groupby(\"Gender\")\n",
    "gender_count = gender_stats.nunique()[\"SN\"]\n",
    "percentage_of_players = gender_count / total_players * 100\n",
    "gender_dem = pd.DataFrame({\"Percentage of Players\": percentage_of_players, \"Total Count\": gender_count})\n",
    "gender_dem.sort_values([\"Total Count\"], ascending = False).style.format({\"Percentage of Players\":\"{:.2f}%\"})"
   ]
  },
  {
   "cell_type": "markdown",
   "metadata": {},
   "source": [
    "# Purchasing Analysis (Gender)"
   ]
  },
  {
   "cell_type": "markdown",
   "metadata": {},
   "source": [
    "* Run basic calculations to obtain purchase count, avg. purchase price, avg. purchase total per person etc. by gender\n",
    "\n",
    "\n",
    "\n",
    "\n",
    "* Create a summary data frame to hold the results\n",
    "\n",
    "\n",
    "* Optional: give the displayed data cleaner formatting\n",
    "\n",
    "\n",
    "* Display the summary data frame"
   ]
  },
  {
   "cell_type": "code",
   "execution_count": 94,
   "metadata": {},
   "outputs": [
    {
     "data": {
      "text/html": [
       "<style  type=\"text/css\" >\n",
       "</style>  \n",
       "<table id=\"T_378d4caa_0031_11e9_9130_f45c89a06919\" > \n",
       "<thead>    <tr> \n",
       "        <th class=\"blank level0\" ></th> \n",
       "        <th class=\"col_heading level0 col0\" >Purchase Count</th> \n",
       "        <th class=\"col_heading level0 col1\" >Avg Purchase Price</th> \n",
       "        <th class=\"col_heading level0 col2\" >Avg Purchase Value</th> \n",
       "        <th class=\"col_heading level0 col3\" >Avg Purchase Total per Person</th> \n",
       "    </tr>    <tr> \n",
       "        <th class=\"index_name level0\" >Gender</th> \n",
       "        <th class=\"blank\" ></th> \n",
       "        <th class=\"blank\" ></th> \n",
       "        <th class=\"blank\" ></th> \n",
       "        <th class=\"blank\" ></th> \n",
       "    </tr></thead> \n",
       "<tbody>    <tr> \n",
       "        <th id=\"T_378d4caa_0031_11e9_9130_f45c89a06919level0_row0\" class=\"row_heading level0 row0\" >Female</th> \n",
       "        <td id=\"T_378d4caa_0031_11e9_9130_f45c89a06919row0_col0\" class=\"data row0 col0\" >113</td> \n",
       "        <td id=\"T_378d4caa_0031_11e9_9130_f45c89a06919row0_col1\" class=\"data row0 col1\" >$3.20</td> \n",
       "        <td id=\"T_378d4caa_0031_11e9_9130_f45c89a06919row0_col2\" class=\"data row0 col2\" >$361.94</td> \n",
       "        <td id=\"T_378d4caa_0031_11e9_9130_f45c89a06919row0_col3\" class=\"data row0 col3\" >$4.47</td> \n",
       "    </tr>    <tr> \n",
       "        <th id=\"T_378d4caa_0031_11e9_9130_f45c89a06919level0_row1\" class=\"row_heading level0 row1\" >Male</th> \n",
       "        <td id=\"T_378d4caa_0031_11e9_9130_f45c89a06919row1_col0\" class=\"data row1 col0\" >652</td> \n",
       "        <td id=\"T_378d4caa_0031_11e9_9130_f45c89a06919row1_col1\" class=\"data row1 col1\" >$3.02</td> \n",
       "        <td id=\"T_378d4caa_0031_11e9_9130_f45c89a06919row1_col2\" class=\"data row1 col2\" >$1,967.64</td> \n",
       "        <td id=\"T_378d4caa_0031_11e9_9130_f45c89a06919row1_col3\" class=\"data row1 col3\" >$4.07</td> \n",
       "    </tr>    <tr> \n",
       "        <th id=\"T_378d4caa_0031_11e9_9130_f45c89a06919level0_row2\" class=\"row_heading level0 row2\" >Other / Non-Disclosed</th> \n",
       "        <td id=\"T_378d4caa_0031_11e9_9130_f45c89a06919row2_col0\" class=\"data row2 col0\" >15</td> \n",
       "        <td id=\"T_378d4caa_0031_11e9_9130_f45c89a06919row2_col1\" class=\"data row2 col1\" >$3.35</td> \n",
       "        <td id=\"T_378d4caa_0031_11e9_9130_f45c89a06919row2_col2\" class=\"data row2 col2\" >$50.19</td> \n",
       "        <td id=\"T_378d4caa_0031_11e9_9130_f45c89a06919row2_col3\" class=\"data row2 col3\" >$4.56</td> \n",
       "    </tr></tbody> \n",
       "</table> "
      ],
      "text/plain": [
       "<pandas.io.formats.style.Styler at 0x11ba353c8>"
      ]
     },
     "execution_count": 94,
     "metadata": {},
     "output_type": "execute_result"
    }
   ],
   "source": [
    "purchase_count = gender_stats[\"Purchase ID\"].count()\n",
    "avg_purchase_price = gender_stats[\"Price\"].mean()\n",
    "avg_purchase_total = gender_stats[\"Price\"].sum()\n",
    "avg_purchase_per_person = avg_purchase_total/total_count_gender\n",
    " \n",
    "gender_dem = pd.DataFrame({\"Purchase Count\": purchase_count, \n",
    "                                    \"Avg Purchase Price\": avg_purchase_price,\n",
    "                                    \"Avg Purchase Value\":avg_purchase_total,\n",
    "                                    \"Avg Purchase Total per Person\": avg_purchase_per_person})\n",
    "\n",
    "\n",
    "gender_dem.index.name = \"Gender\"\n",
    "gender_dem.style.format({\"Avg Purchase Value\":\"${:,.2f}\",\n",
    "                         \"Avg Purchase Price\":\"${:,.2f}\",\n",
    "                         \"Avg Purchase Total per Person\":\"${:,.2f}\"})"
   ]
  },
  {
   "cell_type": "markdown",
   "metadata": {},
   "source": [
    "## Age Demographics"
   ]
  },
  {
   "cell_type": "markdown",
   "metadata": {},
   "source": [
    "* Establish bins for ages\n",
    "\n",
    "\n",
    "* Categorize the existing players using the age bins. Hint: use pd.cut()\n",
    "\n",
    "\n",
    "* Calculate the numbers and percentages by age group\n",
    "\n",
    "\n",
    "* Create a summary data frame to hold the results\n",
    "\n",
    "\n",
    "* Optional: round the percentage column to two decimal points\n",
    "\n",
    "\n",
    "* Display Age Demographics Table\n"
   ]
  },
  {
   "cell_type": "code",
   "execution_count": 95,
   "metadata": {},
   "outputs": [
    {
     "data": {
      "text/html": [
       "<style  type=\"text/css\" >\n",
       "</style>  \n",
       "<table id=\"T_38856408_0031_11e9_9130_f45c89a06919\" > \n",
       "<thead>    <tr> \n",
       "        <th class=\"blank level0\" ></th> \n",
       "        <th class=\"col_heading level0 col0\" >Percentage of Players</th> \n",
       "        <th class=\"col_heading level0 col1\" >Total Count</th> \n",
       "    </tr></thead> \n",
       "<tbody>    <tr> \n",
       "        <th id=\"T_38856408_0031_11e9_9130_f45c89a06919level0_row0\" class=\"row_heading level0 row0\" ><10</th> \n",
       "        <td id=\"T_38856408_0031_11e9_9130_f45c89a06919row0_col0\" class=\"data row0 col0\" >2.95%</td> \n",
       "        <td id=\"T_38856408_0031_11e9_9130_f45c89a06919row0_col1\" class=\"data row0 col1\" >17</td> \n",
       "    </tr>    <tr> \n",
       "        <th id=\"T_38856408_0031_11e9_9130_f45c89a06919level0_row1\" class=\"row_heading level0 row1\" >10-14</th> \n",
       "        <td id=\"T_38856408_0031_11e9_9130_f45c89a06919row1_col0\" class=\"data row1 col0\" >3.82%</td> \n",
       "        <td id=\"T_38856408_0031_11e9_9130_f45c89a06919row1_col1\" class=\"data row1 col1\" >22</td> \n",
       "    </tr>    <tr> \n",
       "        <th id=\"T_38856408_0031_11e9_9130_f45c89a06919level0_row2\" class=\"row_heading level0 row2\" >15-19</th> \n",
       "        <td id=\"T_38856408_0031_11e9_9130_f45c89a06919row2_col0\" class=\"data row2 col0\" >18.58%</td> \n",
       "        <td id=\"T_38856408_0031_11e9_9130_f45c89a06919row2_col1\" class=\"data row2 col1\" >107</td> \n",
       "    </tr>    <tr> \n",
       "        <th id=\"T_38856408_0031_11e9_9130_f45c89a06919level0_row3\" class=\"row_heading level0 row3\" >20-24</th> \n",
       "        <td id=\"T_38856408_0031_11e9_9130_f45c89a06919row3_col0\" class=\"data row3 col0\" >44.79%</td> \n",
       "        <td id=\"T_38856408_0031_11e9_9130_f45c89a06919row3_col1\" class=\"data row3 col1\" >258</td> \n",
       "    </tr>    <tr> \n",
       "        <th id=\"T_38856408_0031_11e9_9130_f45c89a06919level0_row4\" class=\"row_heading level0 row4\" >25-29</th> \n",
       "        <td id=\"T_38856408_0031_11e9_9130_f45c89a06919row4_col0\" class=\"data row4 col0\" >13.37%</td> \n",
       "        <td id=\"T_38856408_0031_11e9_9130_f45c89a06919row4_col1\" class=\"data row4 col1\" >77</td> \n",
       "    </tr>    <tr> \n",
       "        <th id=\"T_38856408_0031_11e9_9130_f45c89a06919level0_row5\" class=\"row_heading level0 row5\" >30-34</th> \n",
       "        <td id=\"T_38856408_0031_11e9_9130_f45c89a06919row5_col0\" class=\"data row5 col0\" >9.03%</td> \n",
       "        <td id=\"T_38856408_0031_11e9_9130_f45c89a06919row5_col1\" class=\"data row5 col1\" >52</td> \n",
       "    </tr>    <tr> \n",
       "        <th id=\"T_38856408_0031_11e9_9130_f45c89a06919level0_row6\" class=\"row_heading level0 row6\" >35-39</th> \n",
       "        <td id=\"T_38856408_0031_11e9_9130_f45c89a06919row6_col0\" class=\"data row6 col0\" >5.38%</td> \n",
       "        <td id=\"T_38856408_0031_11e9_9130_f45c89a06919row6_col1\" class=\"data row6 col1\" >31</td> \n",
       "    </tr>    <tr> \n",
       "        <th id=\"T_38856408_0031_11e9_9130_f45c89a06919level0_row7\" class=\"row_heading level0 row7\" >40+</th> \n",
       "        <td id=\"T_38856408_0031_11e9_9130_f45c89a06919row7_col0\" class=\"data row7 col0\" >2.08%</td> \n",
       "        <td id=\"T_38856408_0031_11e9_9130_f45c89a06919row7_col1\" class=\"data row7 col1\" >12</td> \n",
       "    </tr></tbody> \n",
       "</table> "
      ],
      "text/plain": [
       "<pandas.io.formats.style.Styler at 0x11ba35828>"
      ]
     },
     "execution_count": 95,
     "metadata": {},
     "output_type": "execute_result"
    }
   ],
   "source": [
    "age_bins = [0, 9.90, 14.90, 19.90, 24.90, 29.90, 34.90, 39.90, 99999]\n",
    "group_names = [\"<10\", \"10-14\", \"15-19\", \"20-24\", \"25-29\", \"30-34\", \"35-39\", \"40+\"]\n",
    "\n",
    "\n",
    "purchase_data_df[\"Age Group\"] = pd.cut(purchase_data_df[\"Age\"],age_bins, labels=group_names)\n",
    "purchase_data_df\n",
    "\n",
    "\n",
    "age_groups = purchase_data_df.groupby(\"Age Group\")\n",
    "total_age_counts = age_groups[\"SN\"].nunique()\n",
    "percentage_by_age = (total_count_age/total_players) * 100\n",
    "age_dem = pd.DataFrame({\"Percentage of Players\": percentage_by_age, \"Total Count\": total_count_age})\n",
    "age_dem.index.name = None\n",
    "age_dem.style.format({\"Percentage of Players\":\"{:,.2f}%\"})\n",
    "\n"
   ]
  },
  {
   "cell_type": "markdown",
   "metadata": {},
   "source": [
    "## Purchasing Analysis (Age)"
   ]
  },
  {
   "cell_type": "markdown",
   "metadata": {},
   "source": [
    "* Bin the purchase_data data frame by age\n",
    "\n",
    "\n",
    "* Run basic calculations to obtain purchase count, avg. purchase price, avg. purchase total per person etc. in the table below\n",
    "\n",
    "\n",
    "* Create a summary data frame to hold the results\n",
    "\n",
    "\n",
    "* Optional: give the displayed data cleaner formatting\n",
    "\n",
    "\n",
    "* Display the summary data frame"
   ]
  },
  {
   "cell_type": "code",
   "execution_count": 97,
   "metadata": {},
   "outputs": [
    {
     "data": {
      "text/html": [
       "<style  type=\"text/css\" >\n",
       "</style>  \n",
       "<table id=\"T_38ed63f0_0031_11e9_9130_f45c89a06919\" > \n",
       "<thead>    <tr> \n",
       "        <th class=\"blank level0\" ></th> \n",
       "        <th class=\"col_heading level0 col0\" >Purchase Count</th> \n",
       "        <th class=\"col_heading level0 col1\" >Avg Purchase Price</th> \n",
       "        <th class=\"col_heading level0 col2\" >Total Purchase Value</th> \n",
       "        <th class=\"col_heading level0 col3\" >Avg Purchase Total per Person</th> \n",
       "    </tr></thead> \n",
       "<tbody>    <tr> \n",
       "        <th id=\"T_38ed63f0_0031_11e9_9130_f45c89a06919level0_row0\" class=\"row_heading level0 row0\" ><10</th> \n",
       "        <td id=\"T_38ed63f0_0031_11e9_9130_f45c89a06919row0_col0\" class=\"data row0 col0\" >23</td> \n",
       "        <td id=\"T_38ed63f0_0031_11e9_9130_f45c89a06919row0_col1\" class=\"data row0 col1\" >$3.35</td> \n",
       "        <td id=\"T_38ed63f0_0031_11e9_9130_f45c89a06919row0_col2\" class=\"data row0 col2\" >$77.13</td> \n",
       "        <td id=\"T_38ed63f0_0031_11e9_9130_f45c89a06919row0_col3\" class=\"data row0 col3\" >$4.54</td> \n",
       "    </tr>    <tr> \n",
       "        <th id=\"T_38ed63f0_0031_11e9_9130_f45c89a06919level0_row1\" class=\"row_heading level0 row1\" >10-14</th> \n",
       "        <td id=\"T_38ed63f0_0031_11e9_9130_f45c89a06919row1_col0\" class=\"data row1 col0\" >28</td> \n",
       "        <td id=\"T_38ed63f0_0031_11e9_9130_f45c89a06919row1_col1\" class=\"data row1 col1\" >$2.96</td> \n",
       "        <td id=\"T_38ed63f0_0031_11e9_9130_f45c89a06919row1_col2\" class=\"data row1 col2\" >$82.78</td> \n",
       "        <td id=\"T_38ed63f0_0031_11e9_9130_f45c89a06919row1_col3\" class=\"data row1 col3\" >$3.76</td> \n",
       "    </tr>    <tr> \n",
       "        <th id=\"T_38ed63f0_0031_11e9_9130_f45c89a06919level0_row2\" class=\"row_heading level0 row2\" >15-19</th> \n",
       "        <td id=\"T_38ed63f0_0031_11e9_9130_f45c89a06919row2_col0\" class=\"data row2 col0\" >136</td> \n",
       "        <td id=\"T_38ed63f0_0031_11e9_9130_f45c89a06919row2_col1\" class=\"data row2 col1\" >$3.04</td> \n",
       "        <td id=\"T_38ed63f0_0031_11e9_9130_f45c89a06919row2_col2\" class=\"data row2 col2\" >$412.89</td> \n",
       "        <td id=\"T_38ed63f0_0031_11e9_9130_f45c89a06919row2_col3\" class=\"data row2 col3\" >$3.86</td> \n",
       "    </tr>    <tr> \n",
       "        <th id=\"T_38ed63f0_0031_11e9_9130_f45c89a06919level0_row3\" class=\"row_heading level0 row3\" >20-24</th> \n",
       "        <td id=\"T_38ed63f0_0031_11e9_9130_f45c89a06919row3_col0\" class=\"data row3 col0\" >365</td> \n",
       "        <td id=\"T_38ed63f0_0031_11e9_9130_f45c89a06919row3_col1\" class=\"data row3 col1\" >$3.05</td> \n",
       "        <td id=\"T_38ed63f0_0031_11e9_9130_f45c89a06919row3_col2\" class=\"data row3 col2\" >$1,114.06</td> \n",
       "        <td id=\"T_38ed63f0_0031_11e9_9130_f45c89a06919row3_col3\" class=\"data row3 col3\" >$4.32</td> \n",
       "    </tr>    <tr> \n",
       "        <th id=\"T_38ed63f0_0031_11e9_9130_f45c89a06919level0_row4\" class=\"row_heading level0 row4\" >25-29</th> \n",
       "        <td id=\"T_38ed63f0_0031_11e9_9130_f45c89a06919row4_col0\" class=\"data row4 col0\" >101</td> \n",
       "        <td id=\"T_38ed63f0_0031_11e9_9130_f45c89a06919row4_col1\" class=\"data row4 col1\" >$2.90</td> \n",
       "        <td id=\"T_38ed63f0_0031_11e9_9130_f45c89a06919row4_col2\" class=\"data row4 col2\" >$293.00</td> \n",
       "        <td id=\"T_38ed63f0_0031_11e9_9130_f45c89a06919row4_col3\" class=\"data row4 col3\" >$3.81</td> \n",
       "    </tr>    <tr> \n",
       "        <th id=\"T_38ed63f0_0031_11e9_9130_f45c89a06919level0_row5\" class=\"row_heading level0 row5\" >30-34</th> \n",
       "        <td id=\"T_38ed63f0_0031_11e9_9130_f45c89a06919row5_col0\" class=\"data row5 col0\" >73</td> \n",
       "        <td id=\"T_38ed63f0_0031_11e9_9130_f45c89a06919row5_col1\" class=\"data row5 col1\" >$2.93</td> \n",
       "        <td id=\"T_38ed63f0_0031_11e9_9130_f45c89a06919row5_col2\" class=\"data row5 col2\" >$214.00</td> \n",
       "        <td id=\"T_38ed63f0_0031_11e9_9130_f45c89a06919row5_col3\" class=\"data row5 col3\" >$4.12</td> \n",
       "    </tr>    <tr> \n",
       "        <th id=\"T_38ed63f0_0031_11e9_9130_f45c89a06919level0_row6\" class=\"row_heading level0 row6\" >35-39</th> \n",
       "        <td id=\"T_38ed63f0_0031_11e9_9130_f45c89a06919row6_col0\" class=\"data row6 col0\" >41</td> \n",
       "        <td id=\"T_38ed63f0_0031_11e9_9130_f45c89a06919row6_col1\" class=\"data row6 col1\" >$3.60</td> \n",
       "        <td id=\"T_38ed63f0_0031_11e9_9130_f45c89a06919row6_col2\" class=\"data row6 col2\" >$147.67</td> \n",
       "        <td id=\"T_38ed63f0_0031_11e9_9130_f45c89a06919row6_col3\" class=\"data row6 col3\" >$4.76</td> \n",
       "    </tr>    <tr> \n",
       "        <th id=\"T_38ed63f0_0031_11e9_9130_f45c89a06919level0_row7\" class=\"row_heading level0 row7\" >40+</th> \n",
       "        <td id=\"T_38ed63f0_0031_11e9_9130_f45c89a06919row7_col0\" class=\"data row7 col0\" >13</td> \n",
       "        <td id=\"T_38ed63f0_0031_11e9_9130_f45c89a06919row7_col1\" class=\"data row7 col1\" >$2.94</td> \n",
       "        <td id=\"T_38ed63f0_0031_11e9_9130_f45c89a06919row7_col2\" class=\"data row7 col2\" >$38.24</td> \n",
       "        <td id=\"T_38ed63f0_0031_11e9_9130_f45c89a06919row7_col3\" class=\"data row7 col3\" >$3.19</td> \n",
       "    </tr></tbody> \n",
       "</table> "
      ],
      "text/plain": [
       "<pandas.io.formats.style.Styler at 0x11ba37198>"
      ]
     },
     "execution_count": 97,
     "metadata": {},
     "output_type": "execute_result"
    }
   ],
   "source": [
    "purchase_count_age = age_grouped[\"Purchase ID\"].count()\n",
    "avg_purchase_price_age = age_grouped[\"Price\"].mean()\n",
    "total_purchase_value = age_grouped[\"Price\"].sum()\n",
    "avg_purchase_per_person_age = total_purchase_value/total_count_age\n",
    "\n",
    "age_dem = pd.DataFrame({\"Purchase Count\": purchase_count_age,\n",
    "                                 \"Avg Purchase Price\": avg_purchase_price_age,\n",
    "                                 \"Total Purchase Value\":total_purchase_value,\n",
    "                                 \"Avg Purchase Total per Person\": avg_purchase_per_person_age})\n",
    "\n",
    "\n",
    "age_dem.index.name = None\n",
    "age_dem.style.format({\"Avg Purchase Price\":\"${:,.2f}\",\n",
    "                      \"Total Purchase Value\":\"${:,.2f}\",\n",
    "                      \"Avg Purchase Total per Person\":\"${:,.2f}\"})\n"
   ]
  },
  {
   "cell_type": "markdown",
   "metadata": {},
   "source": [
    "## Top Spenders"
   ]
  },
  {
   "cell_type": "markdown",
   "metadata": {},
   "source": [
    "* Run basic calculations to obtain the results in the table below\n",
    "\n",
    "\n",
    "* Create a summary data frame to hold the results\n",
    "\n",
    "\n",
    "* Sort the total purchase value column in descending order\n",
    "\n",
    "\n",
    "* Optional: give the displayed data cleaner formatting\n",
    "\n",
    "\n",
    "* Display a preview of the summary data frame\n",
    "\n"
   ]
  },
  {
   "cell_type": "code",
   "execution_count": 99,
   "metadata": {},
   "outputs": [
    {
     "data": {
      "text/html": [
       "<style  type=\"text/css\" >\n",
       "</style>  \n",
       "<table id=\"T_0da6f100_0033_11e9_9130_f45c89a06919\" > \n",
       "<thead>    <tr> \n",
       "        <th class=\"blank level0\" ></th> \n",
       "        <th class=\"col_heading level0 col0\" >Purchase Count</th> \n",
       "        <th class=\"col_heading level0 col1\" >Avg Purchase Price</th> \n",
       "        <th class=\"col_heading level0 col2\" >Total Purchase Value</th> \n",
       "    </tr>    <tr> \n",
       "        <th class=\"index_name level0\" >SN</th> \n",
       "        <th class=\"blank\" ></th> \n",
       "        <th class=\"blank\" ></th> \n",
       "        <th class=\"blank\" ></th> \n",
       "    </tr></thead> \n",
       "<tbody>    <tr> \n",
       "        <th id=\"T_0da6f100_0033_11e9_9130_f45c89a06919level0_row0\" class=\"row_heading level0 row0\" >Lisosia93</th> \n",
       "        <td id=\"T_0da6f100_0033_11e9_9130_f45c89a06919row0_col0\" class=\"data row0 col0\" >5</td> \n",
       "        <td id=\"T_0da6f100_0033_11e9_9130_f45c89a06919row0_col1\" class=\"data row0 col1\" >$3.79</td> \n",
       "        <td id=\"T_0da6f100_0033_11e9_9130_f45c89a06919row0_col2\" class=\"data row0 col2\" >$18.96</td> \n",
       "    </tr>    <tr> \n",
       "        <th id=\"T_0da6f100_0033_11e9_9130_f45c89a06919level0_row1\" class=\"row_heading level0 row1\" >Idastidru52</th> \n",
       "        <td id=\"T_0da6f100_0033_11e9_9130_f45c89a06919row1_col0\" class=\"data row1 col0\" >4</td> \n",
       "        <td id=\"T_0da6f100_0033_11e9_9130_f45c89a06919row1_col1\" class=\"data row1 col1\" >$3.86</td> \n",
       "        <td id=\"T_0da6f100_0033_11e9_9130_f45c89a06919row1_col2\" class=\"data row1 col2\" >$15.45</td> \n",
       "    </tr>    <tr> \n",
       "        <th id=\"T_0da6f100_0033_11e9_9130_f45c89a06919level0_row2\" class=\"row_heading level0 row2\" >Chamjask73</th> \n",
       "        <td id=\"T_0da6f100_0033_11e9_9130_f45c89a06919row2_col0\" class=\"data row2 col0\" >3</td> \n",
       "        <td id=\"T_0da6f100_0033_11e9_9130_f45c89a06919row2_col1\" class=\"data row2 col1\" >$4.61</td> \n",
       "        <td id=\"T_0da6f100_0033_11e9_9130_f45c89a06919row2_col2\" class=\"data row2 col2\" >$13.83</td> \n",
       "    </tr>    <tr> \n",
       "        <th id=\"T_0da6f100_0033_11e9_9130_f45c89a06919level0_row3\" class=\"row_heading level0 row3\" >Iral74</th> \n",
       "        <td id=\"T_0da6f100_0033_11e9_9130_f45c89a06919row3_col0\" class=\"data row3 col0\" >4</td> \n",
       "        <td id=\"T_0da6f100_0033_11e9_9130_f45c89a06919row3_col1\" class=\"data row3 col1\" >$3.40</td> \n",
       "        <td id=\"T_0da6f100_0033_11e9_9130_f45c89a06919row3_col2\" class=\"data row3 col2\" >$13.62</td> \n",
       "    </tr>    <tr> \n",
       "        <th id=\"T_0da6f100_0033_11e9_9130_f45c89a06919level0_row4\" class=\"row_heading level0 row4\" >Iskadarya95</th> \n",
       "        <td id=\"T_0da6f100_0033_11e9_9130_f45c89a06919row4_col0\" class=\"data row4 col0\" >3</td> \n",
       "        <td id=\"T_0da6f100_0033_11e9_9130_f45c89a06919row4_col1\" class=\"data row4 col1\" >$4.37</td> \n",
       "        <td id=\"T_0da6f100_0033_11e9_9130_f45c89a06919row4_col2\" class=\"data row4 col2\" >$13.10</td> \n",
       "    </tr></tbody> \n",
       "</table> "
      ],
      "text/plain": [
       "<pandas.io.formats.style.Styler at 0x11b9a7c18>"
      ]
     },
     "execution_count": 99,
     "metadata": {},
     "output_type": "execute_result"
    }
   ],
   "source": [
    "spender_stats = purchase_data_df.groupby(\"SN\")\n",
    "purchase_count_spender = spender_stats[\"Purchase ID\"].count()\n",
    "avg_purchase_price_spender = spender_stats[\"Price\"].mean()\n",
    "purchase_total_spender = spender_stats[\"Price\"].sum()\n",
    "\n",
    "\n",
    "top_spenders = pd.DataFrame({\"Purchase Count\": purchase_count_spender,\n",
    "                             \"Avg Purchase Price\": avg_purchase_price_spender,\n",
    "                             \"Total Purchase Value\":purchase_total_spender})\n",
    "\n",
    "\n",
    "formatted_spenders = top_spenders.sort_values([\"Total Purchase Value\"], ascending=False).head()\n",
    "formatted_spenders.style.format({\"Avg Purchase Total\":\"${:,.2f}\",\n",
    "                                 \"Avg Purchase Price\":\"${:,.2f}\", \n",
    "                                 \"Total Purchase Value\":\"${:,.2f}\"})"
   ]
  },
  {
   "cell_type": "markdown",
   "metadata": {},
   "source": [
    "## Most Popular Items"
   ]
  },
  {
   "cell_type": "markdown",
   "metadata": {},
   "source": [
    "* Retrieve the Item ID, Item Name, and Item Price columns\n",
    "\n",
    "\n",
    "* Group by Item ID and Item Name. Perform calculations to obtain purchase count, item price, and total purchase value\n",
    "\n",
    "\n",
    "* Create a summary data frame to hold the results\n",
    "\n",
    "\n",
    "* Sort the purchase count column in descending order\n",
    "\n",
    "\n",
    "* Optional: give the displayed data cleaner formatting\n",
    "\n",
    "\n",
    "* Display a preview of the summary data frame\n",
    "\n"
   ]
  },
  {
   "cell_type": "code",
   "execution_count": 79,
   "metadata": {},
   "outputs": [
    {
     "data": {
      "text/html": [
       "<style  type=\"text/css\" >\n",
       "</style>  \n",
       "<table id=\"T_0f337f7e_002f_11e9_9130_f45c89a06919\" > \n",
       "<thead>    <tr> \n",
       "        <th class=\"blank\" ></th> \n",
       "        <th class=\"blank level0\" ></th> \n",
       "        <th class=\"col_heading level0 col0\" >Purchase Count</th> \n",
       "        <th class=\"col_heading level0 col1\" >Item Price</th> \n",
       "        <th class=\"col_heading level0 col2\" >Total Purchase Value</th> \n",
       "    </tr>    <tr> \n",
       "        <th class=\"index_name level0\" >Item ID</th> \n",
       "        <th class=\"index_name level1\" >Item Name</th> \n",
       "        <th class=\"blank\" ></th> \n",
       "        <th class=\"blank\" ></th> \n",
       "        <th class=\"blank\" ></th> \n",
       "    </tr></thead> \n",
       "<tbody>    <tr> \n",
       "        <th id=\"T_0f337f7e_002f_11e9_9130_f45c89a06919level0_row0\" class=\"row_heading level0 row0\" >178</th> \n",
       "        <th id=\"T_0f337f7e_002f_11e9_9130_f45c89a06919level1_row0\" class=\"row_heading level1 row0\" >Oathbreaker, Last Hope of the Breaking Storm</th> \n",
       "        <td id=\"T_0f337f7e_002f_11e9_9130_f45c89a06919row0_col0\" class=\"data row0 col0\" >12</td> \n",
       "        <td id=\"T_0f337f7e_002f_11e9_9130_f45c89a06919row0_col1\" class=\"data row0 col1\" >$4.23</td> \n",
       "        <td id=\"T_0f337f7e_002f_11e9_9130_f45c89a06919row0_col2\" class=\"data row0 col2\" >$50.76</td> \n",
       "    </tr>    <tr> \n",
       "        <th id=\"T_0f337f7e_002f_11e9_9130_f45c89a06919level0_row1\" class=\"row_heading level0 row1\" >145</th> \n",
       "        <th id=\"T_0f337f7e_002f_11e9_9130_f45c89a06919level1_row1\" class=\"row_heading level1 row1\" >Fiery Glass Crusader</th> \n",
       "        <td id=\"T_0f337f7e_002f_11e9_9130_f45c89a06919row1_col0\" class=\"data row1 col0\" >9</td> \n",
       "        <td id=\"T_0f337f7e_002f_11e9_9130_f45c89a06919row1_col1\" class=\"data row1 col1\" >$4.58</td> \n",
       "        <td id=\"T_0f337f7e_002f_11e9_9130_f45c89a06919row1_col2\" class=\"data row1 col2\" >$41.22</td> \n",
       "    </tr>    <tr> \n",
       "        <th id=\"T_0f337f7e_002f_11e9_9130_f45c89a06919level0_row2\" class=\"row_heading level0 row2\" >108</th> \n",
       "        <th id=\"T_0f337f7e_002f_11e9_9130_f45c89a06919level1_row2\" class=\"row_heading level1 row2\" >Extraction, Quickblade Of Trembling Hands</th> \n",
       "        <td id=\"T_0f337f7e_002f_11e9_9130_f45c89a06919row2_col0\" class=\"data row2 col0\" >9</td> \n",
       "        <td id=\"T_0f337f7e_002f_11e9_9130_f45c89a06919row2_col1\" class=\"data row2 col1\" >$3.53</td> \n",
       "        <td id=\"T_0f337f7e_002f_11e9_9130_f45c89a06919row2_col2\" class=\"data row2 col2\" >$31.77</td> \n",
       "    </tr>    <tr> \n",
       "        <th id=\"T_0f337f7e_002f_11e9_9130_f45c89a06919level0_row3\" class=\"row_heading level0 row3\" >82</th> \n",
       "        <th id=\"T_0f337f7e_002f_11e9_9130_f45c89a06919level1_row3\" class=\"row_heading level1 row3\" >Nirvana</th> \n",
       "        <td id=\"T_0f337f7e_002f_11e9_9130_f45c89a06919row3_col0\" class=\"data row3 col0\" >9</td> \n",
       "        <td id=\"T_0f337f7e_002f_11e9_9130_f45c89a06919row3_col1\" class=\"data row3 col1\" >$4.90</td> \n",
       "        <td id=\"T_0f337f7e_002f_11e9_9130_f45c89a06919row3_col2\" class=\"data row3 col2\" >$44.10</td> \n",
       "    </tr>    <tr> \n",
       "        <th id=\"T_0f337f7e_002f_11e9_9130_f45c89a06919level0_row4\" class=\"row_heading level0 row4\" >19</th> \n",
       "        <th id=\"T_0f337f7e_002f_11e9_9130_f45c89a06919level1_row4\" class=\"row_heading level1 row4\" >Pursuit, Cudgel of Necromancy</th> \n",
       "        <td id=\"T_0f337f7e_002f_11e9_9130_f45c89a06919row4_col0\" class=\"data row4 col0\" >8</td> \n",
       "        <td id=\"T_0f337f7e_002f_11e9_9130_f45c89a06919row4_col1\" class=\"data row4 col1\" >$1.02</td> \n",
       "        <td id=\"T_0f337f7e_002f_11e9_9130_f45c89a06919row4_col2\" class=\"data row4 col2\" >$8.16</td> \n",
       "    </tr></tbody> \n",
       "</table> "
      ],
      "text/plain": [
       "<pandas.io.formats.style.Styler at 0x11b9b9b38>"
      ]
     },
     "execution_count": 79,
     "metadata": {},
     "output_type": "execute_result"
    }
   ],
   "source": [
    "items = purchase_data_df[[\"Item ID\", \"Item Name\", \"Price\"]]\n",
    "item_stats = items.groupby([\"Item ID\",\"Item Name\"])\n",
    "purchase_count_item = item_stats[\"Price\"].count()\n",
    "purchase_value = (item_stats[\"Price\"].sum()) \n",
    "\n",
    "\n",
    "item_price = purchase_value/purchase_count_item\n",
    "\n",
    "\n",
    "most_popular_items = pd.DataFrame({\"Purchase Count\": purchase_count_item, \n",
    "                                   \"Item Price\": item_price,\n",
    "                                   \"Total Purchase Value\":purchase_value})\n",
    "\n",
    "\n",
    "popular_formatted = most_popular_items.sort_values([\"Purchase Count\"], ascending=False).head()\n",
    "popular_formatted.style.format({\"Item Price\":\"${:,.2f}\",\n",
    "                                \"Total Purchase Value\":\"${:,.2f}\"})"
   ]
  },
  {
   "cell_type": "markdown",
   "metadata": {},
   "source": [
    "## Most Profitable Items"
   ]
  },
  {
   "cell_type": "markdown",
   "metadata": {},
   "source": [
    "* Sort the above table by total purchase value in descending order\n",
    "\n",
    "\n",
    "* Optional: give the displayed data cleaner formatting\n",
    "\n",
    "\n",
    "* Display a preview of the data frame\n",
    "\n"
   ]
  },
  {
   "cell_type": "code",
   "execution_count": 86,
   "metadata": {
    "scrolled": true
   },
   "outputs": [
    {
     "data": {
      "text/html": [
       "<style  type=\"text/css\" >\n",
       "</style>  \n",
       "<table id=\"T_5891c9fa_002f_11e9_9130_f45c89a06919\" > \n",
       "<thead>    <tr> \n",
       "        <th class=\"blank\" ></th> \n",
       "        <th class=\"blank level0\" ></th> \n",
       "        <th class=\"col_heading level0 col0\" >Purchase Count</th> \n",
       "        <th class=\"col_heading level0 col1\" >Item Price</th> \n",
       "        <th class=\"col_heading level0 col2\" >Total Purchase Value</th> \n",
       "    </tr>    <tr> \n",
       "        <th class=\"index_name level0\" >Item ID</th> \n",
       "        <th class=\"index_name level1\" >Item Name</th> \n",
       "        <th class=\"blank\" ></th> \n",
       "        <th class=\"blank\" ></th> \n",
       "        <th class=\"blank\" ></th> \n",
       "    </tr></thead> \n",
       "<tbody>    <tr> \n",
       "        <th id=\"T_5891c9fa_002f_11e9_9130_f45c89a06919level0_row0\" class=\"row_heading level0 row0\" >178</th> \n",
       "        <th id=\"T_5891c9fa_002f_11e9_9130_f45c89a06919level1_row0\" class=\"row_heading level1 row0\" >Oathbreaker, Last Hope of the Breaking Storm</th> \n",
       "        <td id=\"T_5891c9fa_002f_11e9_9130_f45c89a06919row0_col0\" class=\"data row0 col0\" >12</td> \n",
       "        <td id=\"T_5891c9fa_002f_11e9_9130_f45c89a06919row0_col1\" class=\"data row0 col1\" >$4.23</td> \n",
       "        <td id=\"T_5891c9fa_002f_11e9_9130_f45c89a06919row0_col2\" class=\"data row0 col2\" >$50.76</td> \n",
       "    </tr>    <tr> \n",
       "        <th id=\"T_5891c9fa_002f_11e9_9130_f45c89a06919level0_row1\" class=\"row_heading level0 row1\" >82</th> \n",
       "        <th id=\"T_5891c9fa_002f_11e9_9130_f45c89a06919level1_row1\" class=\"row_heading level1 row1\" >Nirvana</th> \n",
       "        <td id=\"T_5891c9fa_002f_11e9_9130_f45c89a06919row1_col0\" class=\"data row1 col0\" >9</td> \n",
       "        <td id=\"T_5891c9fa_002f_11e9_9130_f45c89a06919row1_col1\" class=\"data row1 col1\" >$4.90</td> \n",
       "        <td id=\"T_5891c9fa_002f_11e9_9130_f45c89a06919row1_col2\" class=\"data row1 col2\" >$44.10</td> \n",
       "    </tr>    <tr> \n",
       "        <th id=\"T_5891c9fa_002f_11e9_9130_f45c89a06919level0_row2\" class=\"row_heading level0 row2\" >145</th> \n",
       "        <th id=\"T_5891c9fa_002f_11e9_9130_f45c89a06919level1_row2\" class=\"row_heading level1 row2\" >Fiery Glass Crusader</th> \n",
       "        <td id=\"T_5891c9fa_002f_11e9_9130_f45c89a06919row2_col0\" class=\"data row2 col0\" >9</td> \n",
       "        <td id=\"T_5891c9fa_002f_11e9_9130_f45c89a06919row2_col1\" class=\"data row2 col1\" >$4.58</td> \n",
       "        <td id=\"T_5891c9fa_002f_11e9_9130_f45c89a06919row2_col2\" class=\"data row2 col2\" >$41.22</td> \n",
       "    </tr>    <tr> \n",
       "        <th id=\"T_5891c9fa_002f_11e9_9130_f45c89a06919level0_row3\" class=\"row_heading level0 row3\" >92</th> \n",
       "        <th id=\"T_5891c9fa_002f_11e9_9130_f45c89a06919level1_row3\" class=\"row_heading level1 row3\" >Final Critic</th> \n",
       "        <td id=\"T_5891c9fa_002f_11e9_9130_f45c89a06919row3_col0\" class=\"data row3 col0\" >8</td> \n",
       "        <td id=\"T_5891c9fa_002f_11e9_9130_f45c89a06919row3_col1\" class=\"data row3 col1\" >$4.88</td> \n",
       "        <td id=\"T_5891c9fa_002f_11e9_9130_f45c89a06919row3_col2\" class=\"data row3 col2\" >$39.04</td> \n",
       "    </tr>    <tr> \n",
       "        <th id=\"T_5891c9fa_002f_11e9_9130_f45c89a06919level0_row4\" class=\"row_heading level0 row4\" >103</th> \n",
       "        <th id=\"T_5891c9fa_002f_11e9_9130_f45c89a06919level1_row4\" class=\"row_heading level1 row4\" >Singed Scalpel</th> \n",
       "        <td id=\"T_5891c9fa_002f_11e9_9130_f45c89a06919row4_col0\" class=\"data row4 col0\" >8</td> \n",
       "        <td id=\"T_5891c9fa_002f_11e9_9130_f45c89a06919row4_col1\" class=\"data row4 col1\" >$4.35</td> \n",
       "        <td id=\"T_5891c9fa_002f_11e9_9130_f45c89a06919row4_col2\" class=\"data row4 col2\" >$34.80</td> \n",
       "    </tr></tbody> \n",
       "</table> "
      ],
      "text/plain": [
       "<pandas.io.formats.style.Styler at 0x11b99b860>"
      ]
     },
     "execution_count": 86,
     "metadata": {},
     "output_type": "execute_result"
    }
   ],
   "source": [
    "f_popular_profitable = most_popular_items.sort_values([\"Total Purchase Value\"],\n",
    "                                                   ascending=False).head()\n",
    "\n",
    "f_popular_profitable.style.format({\"Item Price\":\"${:,.2f}\",\n",
    "                                \"Total Purchase Value\":\"${:,.2f}\"})"
   ]
  },
  {
   "cell_type": "code",
   "execution_count": null,
   "metadata": {},
   "outputs": [],
   "source": []
  }
 ],
 "metadata": {
  "anaconda-cloud": {},
  "kernel_info": {
   "name": "python3"
  },
  "kernelspec": {
   "display_name": "Python 3",
   "language": "python",
   "name": "python3"
  },
  "language_info": {
   "codemirror_mode": {
    "name": "ipython",
    "version": 3
   },
   "file_extension": ".py",
   "mimetype": "text/x-python",
   "name": "python",
   "nbconvert_exporter": "python",
   "pygments_lexer": "ipython3",
   "version": "3.7.0"
  },
  "nteract": {
   "version": "0.2.0"
  }
 },
 "nbformat": 4,
 "nbformat_minor": 2
}
